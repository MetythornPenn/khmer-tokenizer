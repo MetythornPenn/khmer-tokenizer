{
 "cells": [
  {
   "cell_type": "code",
   "execution_count": 2,
   "id": "f2a1416b",
   "metadata": {},
   "outputs": [],
   "source": [
    "import re"
   ]
  },
  {
   "cell_type": "code",
   "execution_count": 3,
   "id": "9bd3d211",
   "metadata": {},
   "outputs": [],
   "source": [
    "text = (\n",
    "       'Hello, how are you? I am Romeo.n'\n",
    "       'Hello, Romeo My name is Juliet. Nice to meet you.n'\n",
    "       'Nice meet you too. How are you today?n'\n",
    "       'Great. My baseball team won the competition.n'\n",
    "       'Oh Congratulations, Julietn'\n",
    "       'Thanks you Romeo'\n",
    "   )"
   ]
  },
  {
   "cell_type": "code",
   "execution_count": 5,
   "id": "09c5f268",
   "metadata": {},
   "outputs": [],
   "source": [
    "sentences = re.sub(\"[.,!?-]\", '', text.lower()).split('n')  # filter '.', ',', '?', '!'\n",
    "word_list = list(set(\" \".join(sentences).split()))\n",
    "\n",
    "word_list.sort()"
   ]
  },
  {
   "cell_type": "code",
   "execution_count": 6,
   "id": "cb269c7c",
   "metadata": {},
   "outputs": [
    {
     "data": {
      "text/plain": [
       "(28,\n",
       " ['am',\n",
       "  'ame',\n",
       "  'are',\n",
       "  'baseball',\n",
       "  'co',\n",
       "  'competitio',\n",
       "  'gratulatio',\n",
       "  'great',\n",
       "  'hello',\n",
       "  'how',\n",
       "  'i',\n",
       "  'ice',\n",
       "  'is',\n",
       "  'juliet',\n",
       "  'ks',\n",
       "  'meet',\n",
       "  'my',\n",
       "  'oh',\n",
       "  'romeo',\n",
       "  's',\n",
       "  'team',\n",
       "  'tha',\n",
       "  'the',\n",
       "  'to',\n",
       "  'today',\n",
       "  'too',\n",
       "  'wo',\n",
       "  'you'])"
      ]
     },
     "execution_count": 6,
     "metadata": {},
     "output_type": "execute_result"
    }
   ],
   "source": [
    "len(word_list), word_list"
   ]
  },
  {
   "cell_type": "code",
   "execution_count": 7,
   "id": "302923ff",
   "metadata": {},
   "outputs": [],
   "source": [
    "word_dict = {'[PAD]': 0, '[CLS]': 1, '[SEP]': 2, '[MASK]': 3}\n",
    "for i, w in enumerate(word_list):\n",
    "    word_dict[w] = i + 4\n",
    "    number_dict = {i: w for i, w in enumerate(word_dict)}\n",
    "    vocab_size = len(word_dict)"
   ]
  },
  {
   "cell_type": "code",
   "execution_count": 9,
   "id": "1447c5c6",
   "metadata": {},
   "outputs": [
    {
     "data": {
      "text/plain": [
       "32"
      ]
     },
     "execution_count": 9,
     "metadata": {},
     "output_type": "execute_result"
    }
   ],
   "source": [
    "vocab_size"
   ]
  },
  {
   "cell_type": "code",
   "execution_count": 10,
   "id": "02a449d4",
   "metadata": {},
   "outputs": [
    {
     "data": {
      "text/plain": [
       "{0: '[PAD]',\n",
       " 1: '[CLS]',\n",
       " 2: '[SEP]',\n",
       " 3: '[MASK]',\n",
       " 4: 'am',\n",
       " 5: 'ame',\n",
       " 6: 'are',\n",
       " 7: 'baseball',\n",
       " 8: 'co',\n",
       " 9: 'competitio',\n",
       " 10: 'gratulatio',\n",
       " 11: 'great',\n",
       " 12: 'hello',\n",
       " 13: 'how',\n",
       " 14: 'i',\n",
       " 15: 'ice',\n",
       " 16: 'is',\n",
       " 17: 'juliet',\n",
       " 18: 'ks',\n",
       " 19: 'meet',\n",
       " 20: 'my',\n",
       " 21: 'oh',\n",
       " 22: 'romeo',\n",
       " 23: 's',\n",
       " 24: 'team',\n",
       " 25: 'tha',\n",
       " 26: 'the',\n",
       " 27: 'to',\n",
       " 28: 'today',\n",
       " 29: 'too',\n",
       " 30: 'wo',\n",
       " 31: 'you'}"
      ]
     },
     "execution_count": 10,
     "metadata": {},
     "output_type": "execute_result"
    }
   ],
   "source": [
    "number_dict"
   ]
  },
  {
   "cell_type": "code",
   "execution_count": 8,
   "id": "41c9d606",
   "metadata": {},
   "outputs": [
    {
     "data": {
      "text/plain": [
       "{'[PAD]': 0,\n",
       " '[CLS]': 1,\n",
       " '[SEP]': 2,\n",
       " '[MASK]': 3,\n",
       " 'am': 4,\n",
       " 'ame': 5,\n",
       " 'are': 6,\n",
       " 'baseball': 7,\n",
       " 'co': 8,\n",
       " 'competitio': 9,\n",
       " 'gratulatio': 10,\n",
       " 'great': 11,\n",
       " 'hello': 12,\n",
       " 'how': 13,\n",
       " 'i': 14,\n",
       " 'ice': 15,\n",
       " 'is': 16,\n",
       " 'juliet': 17,\n",
       " 'ks': 18,\n",
       " 'meet': 19,\n",
       " 'my': 20,\n",
       " 'oh': 21,\n",
       " 'romeo': 22,\n",
       " 's': 23,\n",
       " 'team': 24,\n",
       " 'tha': 25,\n",
       " 'the': 26,\n",
       " 'to': 27,\n",
       " 'today': 28,\n",
       " 'too': 29,\n",
       " 'wo': 30,\n",
       " 'you': 31}"
      ]
     },
     "execution_count": 8,
     "metadata": {},
     "output_type": "execute_result"
    }
   ],
   "source": [
    "word_dict"
   ]
  },
  {
   "cell_type": "code",
   "execution_count": null,
   "id": "9adaf7b0",
   "metadata": {},
   "outputs": [],
   "source": [
    "\n",
    "\n",
    "def make_batch():\n",
    "       batch = []\n",
    "   positive = negative = 0\n",
    "   while positive != batch_size/2 or negative != batch_size/2:\n",
    "       tokens_a_index, tokens_b_index= randrange(len(sentences)), randrange(len(sentences))\n",
    "\n",
    "       tokens_a, tokens_b= token_list[tokens_a_index], token_list[tokens_b_index]\n",
    "\n",
    "       input_ids = [word_dict['[CLS]']] + tokens_a + [word_dict['[SEP]']] + tokens_b + [word_dict['[SEP]']]\n",
    "       segment_ids = [0] * (1 + len(tokens_a) + 1) + [1] * (len(tokens_b) + 1)\n",
    "\n",
    "       # MASK LM\n",
    "       n_pred =  min(max_pred, max(1, int(round(len(input_ids) * 0.15)))) # 15 % of tokens in one sentence\n",
    "       cand_maked_pos = [i for i, token in enumerate(input_ids)\n",
    "                         if token != word_dict['[CLS]'] and token != word_dict['[SEP]']]\n",
    "       shuffle(cand_maked_pos)\n",
    "       masked_tokens, masked_pos = [], []\n",
    "       for pos in cand_maked_pos[:n_pred]:\n",
    "           masked_pos.append(pos)\n",
    "           masked_tokens.append(input_ids[pos])\n",
    "           if random() < 0.8:  # 80%\n",
    "               input_ids[pos] = word_dict['[MASK]'] # make mask\n",
    "           elif random() < 0.5:  # 10%\n",
    "               index = randint(0, vocab_size - 1) # random index in vocabulary\n",
    "               input_ids[pos] = word_dict[number_dict[index]] # replace\n",
    "\n",
    "       # Zero Paddings\n",
    "       n_pad = maxlen - len(input_ids)\n",
    "       input_ids.extend([0] * n_pad)\n",
    "       segment_ids.extend([0] * n_pad)\n",
    "\n",
    "       # Zero Padding (100% - 15%) tokens\n",
    "       if max_pred > n_pred:\n",
    "           n_pad = max_pred - n_pred\n",
    "           masked_tokens.extend([0] * n_pad)\n",
    "           masked_pos.extend([0] * n_pad)\n",
    "\n",
    "       if tokens_a_index + 1 == tokens_b_index and positive < batch_size/2:\n",
    "           batch.append([input_ids, segment_ids, masked_tokens, masked_pos, True]) # IsNext\n",
    "           positive += 1\n",
    "       elif tokens_a_index + 1 != tokens_b_index and negative < batch_size/2:\n",
    "           batch.append([input_ids, segment_ids, masked_tokens, masked_pos, False]) # NotNext\n",
    "           negative += 1\n",
    "   return batch"
   ]
  },
  {
   "cell_type": "code",
   "execution_count": null,
   "id": "a3c018e9",
   "metadata": {},
   "outputs": [],
   "source": [
    "def get_attn_pad_mask(seq_q, seq_k):\n",
    "       batch_size, len_q = seq_q.size()\n",
    "   batch_size, len_k = seq_k.size()\n",
    "   # eq(zero) is PAD token\n",
    "   pad_attn_mask = seq_k.data.eq(0).unsqueeze(1)  # batch_size x 1 x len_k(=len_q), one is masking\n",
    "   return pad_attn_mask.expand(batch_size, len_q, len_k)  # batch_size x len_q x len_k\n"
   ]
  },
  {
   "cell_type": "code",
   "execution_count": null,
   "id": "cd699158",
   "metadata": {},
   "outputs": [],
   "source": [
    "class EncoderLayer(nn.Module):\n",
    "       def __init__(self):\n",
    "       super(EncoderLayer, self).__init__()\n",
    "       self.enc_self_attn = MultiHeadAttention()\n",
    "       self.pos_ffn = PoswiseFeedForwardNet()\n",
    "\n",
    "   def forward(self, enc_inputs, enc_self_attn_mask):\n",
    "       enc_outputs, attn = self.enc_self_attn(enc_inputs, enc_inputs, enc_inputs, enc_self_attn_mask) # enc_inputs to same Q,K,V\n",
    "       enc_outputs = self.pos_ffn(enc_outputs) # enc_outputs: [batch_size x len_q x d_model]\n",
    "       return enc_outputs, attn\n"
   ]
  },
  {
   "cell_type": "code",
   "execution_count": null,
   "id": "57bb3330",
   "metadata": {},
   "outputs": [],
   "source": [
    "class MultiHeadAttention(nn.Module):\n",
    "       def __init__(self):\n",
    "       super(MultiHeadAttention, self).__init__()\n",
    "       self.W_Q = nn.Linear(d_model, d_k * n_heads)\n",
    "       self.W_K = nn.Linear(d_model, d_k * n_heads)\n",
    "       self.W_V = nn.Linear(d_model, d_v * n_heads)\n",
    "\n",
    "   def forward(self, Q, K, V, attn_mask):\n",
    "       # q: [batch_size x len_q x d_model], k: [batch_size x len_k x d_model], v: [batch_size x len_k x d_model]\n",
    "       residual, batch_size = Q, Q.size(0)\n",
    "       # (B, S, D) -proj-> (B, S, D) -split-> (B, S, H, W) -trans-> (B, H, S, W)\n",
    "       q_s = self.W_Q(Q).view(batch_size, -1, n_heads, d_k).transpose(1,2)  # q_s: [batch_size x n_heads x len_q x d_k]\n",
    "       k_s = self.W_K(K).view(batch_size, -1, n_heads, d_k).transpose(1,2)  # k_s: [batch_size x n_heads x len_k x d_k]\n",
    "       v_s = self.W_V(V).view(batch_size, -1, n_heads, d_v).transpose(1,2)  # v_s: [batch_size x n_heads x len_k x d_v]\n",
    "\n",
    "       attn_mask = attn_mask.unsqueeze(1).repeat(1, n_heads, 1, 1) # attn_mask : [batch_size x n_heads x len_q x len_k]\n",
    "\n",
    "       # context: [batch_size x n_heads x len_q x d_v], attn: [batch_size x n_heads x len_q(=len_k) x len_k(=len_q)]\n",
    "       context, attn = ScaledDotProductAttention()(q_s, k_s, v_s, attn_mask)\n",
    "       context = context.transpose(1, 2).contiguous().view(batch_size, -1, n_heads * d_v) # context: [batch_size x len_q x n_heads * d_v]\n",
    "       output = nn.Linear(n_heads * d_v, d_model)(context)\n",
    "\n",
    "\n",
    "return nn.LayerNorm(d_model)(output + residual), attn # output: [batch_size x len_q x d_model]"
   ]
  },
  {
   "cell_type": "code",
   "execution_count": null,
   "id": "8ca26b41",
   "metadata": {},
   "outputs": [],
   "source": [
    "class ScaledDotProductAttention(nn.Module):\n",
    "       def __init__(self):\n",
    "       super(ScaledDotProductAttention, self).__init__()\n",
    "\n",
    "   def forward(self, Q, K, V, attn_mask):\n",
    "       scores = torch.matmul(Q, K.transpose(-1, -2)) / np.sqrt(d_k) # scores : [batch_size x n_heads x len_q(=len_k) x len_k(=len_q)]\n",
    "       scores.masked_fill_(attn_mask, -1e9) # Fills elements of self tensor with value where mask is one.\n",
    "       attn = nn.Softmax(dim=-1)(scores)\n",
    "       context = torch.matmul(attn, V)\n",
    "       return score, context, attn\n"
   ]
  },
  {
   "cell_type": "code",
   "execution_count": null,
   "id": "a0a6bfdb",
   "metadata": {},
   "outputs": [],
   "source": [
    "emb = Embedding()\n",
    "embeds = emb(input_ids, segment_ids)\n",
    "\n",
    "attenM = get_attn_pad_mask(input_ids, input_ids)\n",
    "\n",
    "SDPA= ScaledDotProductAttention()(embeds, embeds, embeds, attenM)\n",
    "\n",
    "S, C, A = SDPA\n",
    "\n",
    "print('Masks',masks[0][0])\n",
    "print()\n",
    "print('Scores: ', S[0][0],'nnAttention Scores after softmax: ', A[0][0])"
   ]
  },
  {
   "cell_type": "code",
   "execution_count": null,
   "id": "8a5bef0d",
   "metadata": {},
   "outputs": [],
   "source": [
    "import torch.nn as nn\n",
    "\n",
    "class BERT(nn.Module):\n",
    "    def __init__(self):\n",
    "        super(BERT, self).__init__()\n",
    "        self.embedding = Embedding()\n",
    "        self.layers = nn.ModuleList([EncoderLayer() for _ in range(n_layers)])\n",
    "        self.fc = nn.Linear(d_model, d_model)\n",
    "        self.activ1 = nn.Tanh()\n",
    "        self.linear = nn.Linear(d_model, d_model)\n",
    "        self.activ2 = gelu\n",
    "        self.norm = nn.LayerNorm(d_model)\n",
    "        self.classifier = nn.Linear(d_model, 2)\n",
    "        # decoder is shared with embedding layer\n",
    "        embed_weight = self.embedding.tok_embed.weight\n",
    "        n_vocab, n_dim = embed_weight.size()\n",
    "        self.decoder = nn.Linear(n_dim, n_vocab, bias=False)\n",
    "        self.decoder.weight = embed_weight\n",
    "        self.decoder_bias = nn.Parameter(torch.zeros(n_vocab))\n",
    "\n",
    "def forward(self, input_ids, segment_ids, masked_pos):\n",
    "    output = self.embedding(input_ids, segment_ids)\n",
    "    enc_self_attn_mask = get_attn_pad_mask(input_ids, input_ids)\n",
    "    for layer in self.layers:\n",
    "        output, enc_self_attn = layer(output, enc_self_attn_mask)\n",
    "    # output : [batch_size, len, d_model], attn : [batch_size, n_heads, d_mode, d_model]\n",
    "    # it will be decided by first token(CLS)\n",
    "    h_pooled = self.activ1(self.fc(output[:, 0])) # [batch_size, d_model]\n",
    "    logits_clsf = self.classifier(h_pooled) # [batch_size, 2]\n",
    "\n",
    "    masked_pos = masked_pos[:, :, None].expand(-1, -1, output.size(-1)) # [batch_size, max_pred, d_model]\n",
    "\n",
    "    # get masked position from final output of transformer.\n",
    "    h_masked = torch.gather(output, 1, masked_pos) # masking position [batch_size, max_pred, d_model]\n",
    "    h_masked = self.norm(self.activ2(self.linear(h_masked)))\n",
    "       logits_lm = self.decoder(h_masked) + self.decoder_bias # [batch_size, max_pred, n_vocab]\n",
    "\n",
    "       return logits_lm, logits_clsf"
   ]
  }
 ],
 "metadata": {
  "kernelspec": {
   "display_name": "doc-stack",
   "language": "python",
   "name": "python3"
  },
  "language_info": {
   "codemirror_mode": {
    "name": "ipython",
    "version": 3
   },
   "file_extension": ".py",
   "mimetype": "text/x-python",
   "name": "python",
   "nbconvert_exporter": "python",
   "pygments_lexer": "ipython3",
   "version": "3.10.16"
  }
 },
 "nbformat": 4,
 "nbformat_minor": 5
}
